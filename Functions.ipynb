{
  "nbformat": 4,
  "nbformat_minor": 0,
  "metadata": {
    "colab": {
      "provenance": [],
      "authorship_tag": "ABX9TyMvtkV7rkCYaDfjrADoz5qv",
      "include_colab_link": true
    },
    "kernelspec": {
      "name": "python3",
      "display_name": "Python 3"
    },
    "language_info": {
      "name": "python"
    }
  },
  "cells": [
    {
      "cell_type": "markdown",
      "metadata": {
        "id": "view-in-github",
        "colab_type": "text"
      },
      "source": [
        "<a href=\"https://colab.research.google.com/github/adityavighne/Python-Basics/blob/main/Functions.ipynb\" target=\"_parent\"><img src=\"https://colab.research.google.com/assets/colab-badge.svg\" alt=\"Open In Colab\"/></a>"
      ]
    },
    {
      "cell_type": "markdown",
      "source": [
        "Functions"
      ],
      "metadata": {
        "id": "TymX0MHZ2Mip"
      }
    },
    {
      "cell_type": "code",
      "execution_count": null,
      "metadata": {
        "colab": {
          "base_uri": "https://localhost:8080/"
        },
        "id": "RaRWGXAY2L1b",
        "outputId": "1948a32c-6855-4dc5-a0a8-25111ac6fe54"
      },
      "outputs": [
        {
          "output_type": "stream",
          "name": "stdout",
          "text": [
            "My name is Hi\n"
          ]
        }
      ],
      "source": [
        "def My_function(*x):\n",
        "  print(\"My name is \"+ x[2])\n",
        "My_function(\"Aditya\",\"Vighne\",\"Hi\")\n"
      ]
    },
    {
      "cell_type": "markdown",
      "source": [
        "Lmbda function"
      ],
      "metadata": {
        "id": "BenujNOsC1Xs"
      }
    },
    {
      "cell_type": "code",
      "source": [
        "x=lambda a:a+5\n",
        "print(x(5))"
      ],
      "metadata": {
        "colab": {
          "base_uri": "https://localhost:8080/"
        },
        "id": "qMWi2nVxCGmU",
        "outputId": "80731ac7-d626-4c02-8fe4-7db0dc480a98"
      },
      "execution_count": 1,
      "outputs": [
        {
          "output_type": "stream",
          "name": "stdout",
          "text": [
            "10\n"
          ]
        }
      ]
    },
    {
      "cell_type": "code",
      "source": [
        "x=lambda a,b : a*b\n",
        "print(x(2,5))"
      ],
      "metadata": {
        "colab": {
          "base_uri": "https://localhost:8080/"
        },
        "id": "vv4vwusnCcz4",
        "outputId": "f28af0ec-350c-4c62-8d94-813977f484c2"
      },
      "execution_count": 2,
      "outputs": [
        {
          "output_type": "stream",
          "name": "stdout",
          "text": [
            "10\n"
          ]
        }
      ]
    },
    {
      "cell_type": "markdown",
      "source": [
        "classes and object\n",
        "_init_() function"
      ],
      "metadata": {
        "id": "-YijoHvBD_gR"
      }
    },
    {
      "cell_type": "code",
      "source": [
        "class Person: #defining class\n",
        "  def __init__(self, name, age):\n",
        "    self.name = name\n",
        "    self.age = age\n",
        "\n",
        "  def myfunc(self):\n",
        "    print(\"Hello my name is \" + self.name + \" & my age is \"+ str(self.age)) #changeing data type from int to str\n",
        " \n",
        "p1 = Person(\"John\", 36) #calling object\n",
        "p1.myfunc() #calling function"
      ],
      "metadata": {
        "colab": {
          "base_uri": "https://localhost:8080/"
        },
        "id": "3kcPd5O2D-Iv",
        "outputId": "770379b3-1a5c-4cbd-c145-3a82ddeffa48"
      },
      "execution_count": 11,
      "outputs": [
        {
          "output_type": "stream",
          "name": "stdout",
          "text": [
            "Hello my name is John & my age is 36\n"
          ]
        }
      ]
    },
    {
      "cell_type": "markdown",
      "source": [
        "Inheritance allows us to define a class that inherits all the methods and properties from another class.\n",
        "\n",
        "Parent class is the class being inherited from, also called base class.\n",
        "\n",
        "Child class is the class that inherits from another class, also called derived class."
      ],
      "metadata": {
        "id": "5GlQjeKJF03n"
      }
    },
    {
      "cell_type": "code",
      "source": [
        "class Student(Person):\n",
        "  def __init__(self, fname, lname):\n",
        "    Person.__init__(self, fname, lname) \n",
        "    s1=Student(\"Aditya\", 5)\n",
        "    s1.myfunc()"
      ],
      "metadata": {
        "id": "5pzAHSz9F3Li"
      },
      "execution_count": 12,
      "outputs": []
    }
  ]
}