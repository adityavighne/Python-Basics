{
  "nbformat": 4,
  "nbformat_minor": 0,
  "metadata": {
    "colab": {
      "provenance": [],
      "authorship_tag": "ABX9TyO0+7npEEL0QCQWSbUHTphq",
      "include_colab_link": true
    },
    "kernelspec": {
      "name": "python3",
      "display_name": "Python 3"
    },
    "language_info": {
      "name": "python"
    }
  },
  "cells": [
    {
      "cell_type": "markdown",
      "metadata": {
        "id": "view-in-github",
        "colab_type": "text"
      },
      "source": [
        "<a href=\"https://colab.research.google.com/github/adityavighne/Python-Basics/blob/main/Lists.ipynb\" target=\"_parent\"><img src=\"https://colab.research.google.com/assets/colab-badge.svg\" alt=\"Open In Colab\"/></a>"
      ]
    },
    {
      "cell_type": "markdown",
      "source": [
        "Lists -> Ordered and in [ ]"
      ],
      "metadata": {
        "id": "hVm5UXn2kzwC"
      }
    },
    {
      "cell_type": "code",
      "source": [
        "mylist = [\"apple\", \"banana\", \"cherry\"]\n",
        "print(type(mylist))"
      ],
      "metadata": {
        "colab": {
          "base_uri": "https://localhost:8080/"
        },
        "id": "9laDCuNnk6vu",
        "outputId": "5749a0e5-5e7a-4a55-d644-55269a894789"
      },
      "execution_count": null,
      "outputs": [
        {
          "output_type": "stream",
          "name": "stdout",
          "text": [
            "<class 'list'>\n"
          ]
        }
      ]
    },
    {
      "cell_type": "code",
      "source": [
        "thislist = list((\"apple\", \"banana\", \"cherry\")) # note the double round-brackets\n",
        "print(thislist)"
      ],
      "metadata": {
        "colab": {
          "base_uri": "https://localhost:8080/"
        },
        "id": "PaUORNRflBXS",
        "outputId": "66437c90-f13c-48c9-d708-5d2a0b117b24"
      },
      "execution_count": null,
      "outputs": [
        {
          "output_type": "stream",
          "name": "stdout",
          "text": [
            "['apple', 'banana', 'cherry']\n"
          ]
        }
      ]
    },
    {
      "cell_type": "markdown",
      "source": [
        "Change list Item and insert (work with specific location) append() works and add item at last"
      ],
      "metadata": {
        "id": "DpEadHVIlvBF"
      }
    },
    {
      "cell_type": "code",
      "source": [
        "thislist = [\"apple\", \"banana\", \"cherry\", \"orange\", \"kiwi\", \"mango\"]\n",
        "thislist[1:3] = [\"blackcurrant\", \"watermelon\"]\n",
        "print(thislist)"
      ],
      "metadata": {
        "colab": {
          "base_uri": "https://localhost:8080/"
        },
        "id": "MK1hcB1nlyph",
        "outputId": "8947fa51-bd5e-41f7-fff1-2101aef3eef1"
      },
      "execution_count": null,
      "outputs": [
        {
          "output_type": "stream",
          "name": "stdout",
          "text": [
            "['apple', 'blackcurrant', 'watermelon', 'orange', 'kiwi', 'mango']\n"
          ]
        }
      ]
    },
    {
      "cell_type": "code",
      "source": [
        "thislist = [\"apple\", \"banana\", \"cherry\"]\n",
        "thislist.insert(2, \"watermelon\")\n",
        "print(thislist)"
      ],
      "metadata": {
        "colab": {
          "base_uri": "https://localhost:8080/"
        },
        "id": "ZUW-nGWhl9Xf",
        "outputId": "0af743b1-3106-4a3a-fbe7-08d644f7741d"
      },
      "execution_count": null,
      "outputs": [
        {
          "output_type": "stream",
          "name": "stdout",
          "text": [
            "['apple', 'banana', 'watermelon', 'cherry']\n"
          ]
        }
      ]
    },
    {
      "cell_type": "code",
      "source": [
        "thislist = [\"apple\", \"banana\", \"cherry\"]\n",
        "thistuple = (\"kiwi\", \"orange\")\n",
        "\n",
        "thislist.extend(thistuple) #extend list\n",
        "\n",
        "print(thislist) \n"
      ],
      "metadata": {
        "colab": {
          "base_uri": "https://localhost:8080/"
        },
        "id": "EXktN-0MmXW1",
        "outputId": "38e15153-7dea-45d3-e67a-d5a39c66f809"
      },
      "execution_count": null,
      "outputs": [
        {
          "output_type": "stream",
          "name": "stdout",
          "text": [
            "['apple', 'banana', 'cherry', 'kiwi', 'orange']\n"
          ]
        }
      ]
    },
    {
      "cell_type": "markdown",
      "source": [
        "![Screenshot 2022-09-08 115930.png](data:image/png;base64,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)"
      ],
      "metadata": {
        "id": "M8QMWBSRyWur"
      }
    }
  ]
}