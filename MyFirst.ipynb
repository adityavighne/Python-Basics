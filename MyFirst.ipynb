{
  "nbformat": 4,
  "nbformat_minor": 0,
  "metadata": {
    "colab": {
      "provenance": [],
      "authorship_tag": "ABX9TyPfY/ToZBEyywG7rP6SkOlq",
      "include_colab_link": true
    },
    "kernelspec": {
      "name": "python3",
      "display_name": "Python 3"
    },
    "language_info": {
      "name": "python"
    }
  },
  "cells": [
    {
      "cell_type": "markdown",
      "metadata": {
        "id": "view-in-github",
        "colab_type": "text"
      },
      "source": [
        "<a href=\"https://colab.research.google.com/github/adityavighne/Python-Basics/blob/main/MyFirst.ipynb\" target=\"_parent\"><img src=\"https://colab.research.google.com/assets/colab-badge.svg\" alt=\"Open In Colab\"/></a>"
      ]
    },
    {
      "cell_type": "markdown",
      "source": [
        "Print function"
      ],
      "metadata": {
        "id": "9wLumr4o269Z"
      }
    },
    {
      "cell_type": "code",
      "source": [
        "print(\"Hello Python\")"
      ],
      "metadata": {
        "colab": {
          "base_uri": "https://localhost:8080/"
        },
        "id": "_IWct4f_281w",
        "outputId": "43e7af87-2777-406a-fc5a-5f8d0fef6011"
      },
      "execution_count": 1,
      "outputs": [
        {
          "output_type": "stream",
          "name": "stdout",
          "text": [
            "Hello Python\n"
          ]
        }
      ]
    },
    {
      "cell_type": "markdown",
      "source": [
        "Comment\n",
        "Single line\n",
        "Multiline"
      ],
      "metadata": {
        "id": "GKDde62L3RuR"
      }
    },
    {
      "cell_type": "code",
      "source": [
        "#this is single line comment \n",
        "print(\"Hello Python\")"
      ],
      "metadata": {
        "colab": {
          "base_uri": "https://localhost:8080/"
        },
        "id": "eKQc4tV83V6V",
        "outputId": "4e9c23f0-c5a8-443b-bb9d-7693b3a44b87"
      },
      "execution_count": 5,
      "outputs": [
        {
          "output_type": "stream",
          "name": "stdout",
          "text": [
            "Hello Python\n"
          ]
        }
      ]
    },
    {
      "cell_type": "code",
      "source": [
        "\"\"\"\n",
        "This is multi lne comment\n",
        "\"\"\"\n",
        "print(\"Hello Python\")"
      ],
      "metadata": {
        "colab": {
          "base_uri": "https://localhost:8080/"
        },
        "id": "sKW_WmRl3YFm",
        "outputId": "9989973a-939f-4b97-d83a-13735064ed7a"
      },
      "execution_count": 7,
      "outputs": [
        {
          "output_type": "stream",
          "name": "stdout",
          "text": [
            "Hello Python\n"
          ]
        }
      ]
    },
    {
      "cell_type": "markdown",
      "source": [
        "Variable and get type of variable"
      ],
      "metadata": {
        "id": "vQdhDIT63rKD"
      }
    },
    {
      "cell_type": "code",
      "source": [
        "X=2\n",
        "Y=\"Aditya\"\n",
        "print(X)\n",
        "print(Y)\n",
        "print(type(X))\n",
        "print(type(Y))"
      ],
      "metadata": {
        "colab": {
          "base_uri": "https://localhost:8080/"
        },
        "id": "Jnk1Xz1i31k3",
        "outputId": "2a15e70e-4fdd-41c0-fdfc-d4b33493eee8"
      },
      "execution_count": 9,
      "outputs": [
        {
          "output_type": "stream",
          "name": "stdout",
          "text": [
            "2\n",
            "Aditya\n",
            "<class 'int'>\n",
            "<class 'str'>\n"
          ]
        }
      ]
    },
    {
      "cell_type": "markdown",
      "source": [
        "Many Value to Multiple Variables"
      ],
      "metadata": {
        "id": "cq8XaZmX4gVT"
      }
    },
    {
      "cell_type": "code",
      "source": [
        "x, y, z = \"Aditya\", 2, 5\n",
        "print(x)\n",
        "print(y)\n",
        "print(z)"
      ],
      "metadata": {
        "colab": {
          "base_uri": "https://localhost:8080/"
        },
        "id": "PDSYnQJw4haz",
        "outputId": "a45f1f39-978b-4a3e-ca78-98fb9e239547"
      },
      "execution_count": 10,
      "outputs": [
        {
          "output_type": "stream",
          "name": "stdout",
          "text": [
            "Aditya\n",
            "2\n",
            "5\n"
          ]
        }
      ]
    },
    {
      "cell_type": "code",
      "source": [
        "fruits = [\"apple\", \"banana\", \"cherry\"]\n",
        "x, y, z = fruits\n",
        "print(x)\n",
        "print(y)\n",
        "print(z)"
      ],
      "metadata": {
        "colab": {
          "base_uri": "https://localhost:8080/"
        },
        "id": "IYhSuU1O46UI",
        "outputId": "8da5c710-ee6f-4eb7-871e-01b9802e46c4"
      },
      "execution_count": 11,
      "outputs": [
        {
          "output_type": "stream",
          "name": "stdout",
          "text": [
            "apple\n",
            "banana\n",
            "cherry\n"
          ]
        }
      ]
    },
    {
      "cell_type": "markdown",
      "source": [
        "Global variables"
      ],
      "metadata": {
        "id": "ADTNSI1J5Ork"
      }
    },
    {
      "cell_type": "code",
      "source": [
        "x = \"awesome\"\n",
        "\n",
        "def myfunc():\n",
        "  x = \"fantastic\"\n",
        "  print(\"Python is \" + x)\n",
        "\n",
        "myfunc()\n",
        "\n",
        "print(\"Python is \" + x)"
      ],
      "metadata": {
        "colab": {
          "base_uri": "https://localhost:8080/"
        },
        "id": "v_vmCTaG5Q6l",
        "outputId": "26235fc9-d804-4713-e994-0567604d65ce"
      },
      "execution_count": 12,
      "outputs": [
        {
          "output_type": "stream",
          "name": "stdout",
          "text": [
            "Python is fantastic\n",
            "Python is awesome\n"
          ]
        }
      ]
    },
    {
      "cell_type": "markdown",
      "source": [
        "Data Types\n",
        "\n",
        "Text Type: \tstr\n",
        "Numeric Types: \tint, float, complex\n",
        "Sequence Types: \tlist, tuple, range\n",
        "Mapping Type: \tdict\n",
        "Set Types: \tset, frozenset\n",
        "Boolean Type: \tbool\n",
        "Binary Types: \tbytes, bytearray, memoryview\n",
        "None Type: \tNoneType"
      ],
      "metadata": {
        "id": "ajft9q6r5niQ"
      }
    },
    {
      "cell_type": "code",
      "source": [
        "A = \"Hello World\" \t\n",
        "print(type(A))\n",
        "A = 20 \t\n",
        "print(type(A))\n",
        "A = 20.5\n",
        "print(type(A))\t\n",
        "A = 1j \t\n",
        "print(type(A))\t\n",
        "A = [\"apple\", \"banana\", \"cherry\"] \t\n",
        "print(type(A))\n",
        "A = (\"apple\", \"banana\", \"cherry\") \t\t\n",
        "print(type(A))\n",
        "A = range(6) \t\n",
        "print(type(A))\n",
        "A = {\"name\" : \"John\", \"age\" : 36} \t\t\n",
        "print(type(A))\n",
        "A = {\"apple\", \"banana\", \"cherry\"} \t\n",
        "print(type(A))\n",
        "A = frozenset({\"apple\", \"banana\", \"cherry\"}) \t\n",
        "print(type(A))\n",
        "A = True\n",
        "print(type(A))\n",
        "A = b\"Hello\" \t\n",
        "print(type(A))\n",
        "A = bytearray(5) \t\n",
        "print(type(A))\n",
        "A = memoryview(bytes(5)) \t\n",
        "print(type(A))\n",
        "A = None\n",
        "print(type(A))"
      ],
      "metadata": {
        "colab": {
          "base_uri": "https://localhost:8080/"
        },
        "id": "P1hvZr_S5pKR",
        "outputId": "06135c94-3360-41e1-a186-facf56630476"
      },
      "execution_count": 14,
      "outputs": [
        {
          "output_type": "stream",
          "name": "stdout",
          "text": [
            "<class 'str'>\n",
            "<class 'int'>\n",
            "<class 'float'>\n",
            "<class 'complex'>\n",
            "<class 'list'>\n",
            "<class 'tuple'>\n",
            "<class 'range'>\n",
            "<class 'dict'>\n",
            "<class 'set'>\n",
            "<class 'frozenset'>\n",
            "<class 'bool'>\n",
            "<class 'bytes'>\n",
            "<class 'bytearray'>\n",
            "<class 'memoryview'>\n",
            "<class 'NoneType'>\n"
          ]
        }
      ]
    },
    {
      "cell_type": "markdown",
      "source": [
        "Modify Strings"
      ],
      "metadata": {
        "id": "rAyu5ARCUuTt"
      }
    },
    {
      "cell_type": "code",
      "source": [
        "A_String = \"Aditya\"\n",
        "print(A_String.upper())\n",
        "print(A_String.lower())\n",
        "B_String = \" Vighne   \"\n",
        "print(B_String.strip()) #remove space\n",
        "C_String=\"hi, my name is\"\n",
        "print(C_String.split(\",\")) # split string by delimiter\n",
        "D_String = \"Hello\"\n",
        "print(D_String.replace(\"H\",\"M\")) #replace character"
      ],
      "metadata": {
        "colab": {
          "base_uri": "https://localhost:8080/"
        },
        "id": "09m2F84MUzSV",
        "outputId": "ad46c1d5-1e89-433d-cd2a-dddfa10c76f4"
      },
      "execution_count": 20,
      "outputs": [
        {
          "output_type": "stream",
          "name": "stdout",
          "text": [
            "ADITYA\n",
            "aditya\n",
            "Vighne\n",
            "['hi', ' my name is']\n",
            "Mello\n"
          ]
        }
      ]
    },
    {
      "cell_type": "markdown",
      "source": [
        "Format Strings"
      ],
      "metadata": {
        "id": "6KUiwB2IWxWs"
      }
    },
    {
      "cell_type": "code",
      "source": [
        "my_string = \"Hi I'm ok {}\"\n",
        "age = 56\n",
        "print(my_string.format(age))\n"
      ],
      "metadata": {
        "colab": {
          "base_uri": "https://localhost:8080/"
        },
        "id": "1tA2B52hWy9D",
        "outputId": "fc04bd94-d8a2-44de-e350-f12a7c704739"
      },
      "execution_count": 21,
      "outputs": [
        {
          "output_type": "stream",
          "name": "stdout",
          "text": [
            "Hi I'm ok 56\n"
          ]
        }
      ]
    }
  ]
}